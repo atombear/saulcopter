{
 "cells": [
  {
   "cell_type": "markdown",
   "metadata": {},
   "source": [
    "Goal of this notebook: map out the parameter space for the saulcopter.\n",
    "\n",
    "The Saulcopter is a little plane that flies around Saul's head in circles and is tied to Saul with a rope. Some parameters of interest:\n",
    "\n",
    "* Wingspan\n",
    "* Rope Length\n",
    "* Circling Radius\n",
    "* Power Draw"
   ]
  },
  {
   "cell_type": "code",
   "execution_count": 1,
   "metadata": {
    "collapsed": true
   },
   "outputs": [],
   "source": [
    "%matplotlib inline"
   ]
  },
  {
   "cell_type": "code",
   "execution_count": 2,
   "metadata": {
    "collapsed": true
   },
   "outputs": [],
   "source": [
    "import numpy as np\n",
    "import matplotlib.pyplot as plt"
   ]
  },
  {
   "cell_type": "markdown",
   "metadata": {},
   "source": [
    "Saul doesn't want to be swung around in circles, so his pendulum period must be longer than the circling time:"
   ]
  },
  {
   "cell_type": "markdown",
   "metadata": {},
   "source": [
    "$2\\pi\\sqrt{l/g} >> 2\\pi R / v$"
   ]
  },
  {
   "cell_type": "markdown",
   "metadata": {},
   "source": [
    "Saul weighs 100 kg, so we need that much lift:"
   ]
  },
  {
   "cell_type": "markdown",
   "metadata": {},
   "source": [
    "$F_L = \\frac{1}{2} \\rho C_L A v^2 = 1000 N$"
   ]
  },
  {
   "cell_type": "code",
   "execution_count": 3,
   "metadata": {
    "collapsed": true
   },
   "outputs": [],
   "source": [
    "LDRATIO = 30. # Lift-to-Drag ratio, 10 is probably more realistic"
   ]
  },
  {
   "cell_type": "code",
   "execution_count": 4,
   "metadata": {
    "collapsed": true
   },
   "outputs": [],
   "source": [
    "VV = 100. #m/sec, airspeed"
   ]
  },
  {
   "cell_type": "code",
   "execution_count": 5,
   "metadata": {
    "collapsed": true
   },
   "outputs": [],
   "source": [
    "SAUL = 1000. #N"
   ]
  },
  {
   "cell_type": "code",
   "execution_count": 6,
   "metadata": {
    "collapsed": true
   },
   "outputs": [],
   "source": [
    "RHO_AIR = 1. #kg/m^3, density of air"
   ]
  },
  {
   "cell_type": "code",
   "execution_count": 7,
   "metadata": {
    "collapsed": false
   },
   "outputs": [
    {
     "name": "stdout",
     "output_type": "stream",
     "text": [
      "0.2\n"
     ]
    }
   ],
   "source": [
    "CL_A = SAUL * 2 / VV**2 / RHO_AIR # coefficient of lift times wing area\n",
    "print CL_A"
   ]
  },
  {
   "cell_type": "code",
   "execution_count": 8,
   "metadata": {
    "collapsed": false
   },
   "outputs": [
    {
     "name": "stdout",
     "output_type": "stream",
     "text": [
      "Power Draw:\t3.33 kW\n"
     ]
    }
   ],
   "source": [
    "CD_A = CL_A / LDRATIO # coefficient of drag times wing area\n",
    "\n",
    "wingspan = 10 # m\n",
    "chord = 0.5 #m\n",
    "\n",
    "AR = 8 #standard wingspan/chord aspect ratio\n",
    "\n",
    "Pp = 0.5 * RHO_AIR * CD_A * VV**3\n",
    "print 'Power Draw:\\t%2.2f kW'%(Pp/1000)"
   ]
  },
  {
   "cell_type": "code",
   "execution_count": 9,
   "metadata": {
    "collapsed": false
   },
   "outputs": [
    {
     "name": "stdout",
     "output_type": "stream",
     "text": [
      "Wingspan:\t0.73 m\n",
      "Chord:\t\t0.09 m\n"
     ]
    }
   ],
   "source": [
    "CD = 0.1 #typical drag coef\n",
    "AA = CD_A / CD\n",
    "\n",
    "wingspan = (AA * AR)**0.5\n",
    "print 'Wingspan:\\t%2.2f m'%wingspan\n",
    "\n",
    "chord = wingspan / AR\n",
    "print 'Chord:\\t\\t%2.2f m'%chord"
   ]
  },
  {
   "cell_type": "code",
   "execution_count": 10,
   "metadata": {
    "collapsed": true
   },
   "outputs": [],
   "source": [
    "ARB1 = 10 # arbitrary choice of radius to wingspan ratio, should be >> 1\n",
    "ARB2 = 10 # arbitrary choice of load pendulum period to circling period, should be >> 1"
   ]
  },
  {
   "cell_type": "code",
   "execution_count": 11,
   "metadata": {
    "collapsed": false
   },
   "outputs": [
    {
     "name": "stdout",
     "output_type": "stream",
     "text": [
      "Circle Radius:\t7.30 m\n",
      "Rope Length:\t10.33 m\n",
      "Rope Angle:\t45.0 deg\n"
     ]
    }
   ],
   "source": [
    "RR = wingspan * ARB1 #circle radius\n",
    "print 'Circle Radius:\\t%2.2f m'%RR\n",
    "\n",
    "GG = 10 #m/s^2\n",
    "LL = max(ARB2 * GG * (RR / VV)**2, RR*(2.**0.5))\n",
    "print 'Rope Length:\\t%2.2f m'%LL\n",
    "\n",
    "from math import asin, pi\n",
    "angle = asin(RR / LL) * 180/pi\n",
    "print 'Rope Angle:\\t%2.1f deg'%angle"
   ]
  },
  {
   "cell_type": "markdown",
   "metadata": {},
   "source": [
    "Now functionalize this and bound design space"
   ]
  },
  {
   "cell_type": "code",
   "execution_count": 12,
   "metadata": {
    "collapsed": true
   },
   "outputs": [],
   "source": [
    "ldratio = np.linspace(1, 30)\n",
    "vv = np.linspace(1, 100)\n",
    "\n",
    "DESIGN_LOAD = 1000 # N\n",
    "CD = 0.1 # drag coef of airfoil\n",
    "AR = 8. # aspect ratio of wing\n",
    "\n",
    "FLIGHTTIME = 1 #hr, how long should the thing fly\n",
    "SPEC_ENERGY = 100 # W*hr / kg, specific energy density of battery (bad lithium ion)\n",
    "\n",
    "def CL_A(vv):\n",
    "    ''' lift coef times wing area '''\n",
    "    return DESIGN_LOAD * 2 / VV**2 / RHO_AIR\n",
    "\n",
    "def CD_A(vv, ldratio):\n",
    "    ''' drag coef times wing area '''\n",
    "    return CL_A(vv) / ldratio\n",
    "\n",
    "def Pp(vv, ldratio):\n",
    "    ''' power draw '''\n",
    "    return 0.5 * RHO_AIR * CD_A(vv, ldratio) * vv**3\n",
    "\n",
    "def battery_load(vv, ldratio):\n",
    "    ''' weight of batteries '''\n",
    "    energy = Pp(vv, ldratio) * FLIGHTTIME\n",
    "    return energy / SPEC_ENERGY\n",
    "\n",
    "def wingspan(vv, ldratio):\n",
    "    ''' wingspan of airplane '''\n",
    "    AA = CD_A(vv, ldratio) / CD\n",
    "    return (AA * AR)**0.5\n",
    "\n",
    "def RR(vv, ldratio):\n",
    "    ''' circling radius of airplane '''\n",
    "    return 10 * wingspan(vv, ldratio)\n",
    "\n",
    "def LL(vv, ldratio):\n",
    "    ''' length of rope '''\n",
    "    this_rr = RR(vv, ldratio)\n",
    "    return np.maximum(10 * GG * (this_rr / vv)**2, this_rr*(2.**0.5))"
   ]
  },
  {
   "cell_type": "code",
   "execution_count": 13,
   "metadata": {
    "collapsed": false
   },
   "outputs": [
    {
     "data": {
      "text/plain": [
       "<matplotlib.colorbar.Colorbar instance at 0x7f112cbbf3f8>"
      ]
     },
     "execution_count": 13,
     "metadata": {},
     "output_type": "execute_result"
    },
    {
     "data": {
      "image/png": "[encoded data removed]",
      "text/plain": [
       "<matplotlib.figure.Figure at 0x7f112cd70450>"
      ]
     },
     "metadata": {},
     "output_type": "display_data"
    }
   ],
   "source": [
    "LDRATIO, VV = np.meshgrid(ldratio, vv)\n",
    "POWER = Pp(VV, LDRATIO)\n",
    "POWER = np.where(POWER < 1e4, POWER, float('nan'))\n",
    "plt.contourf(LDRATIO, VV, POWER / 1e3)\n",
    "plt.xlabel('Lift-to-Drag Ratio')\n",
    "plt.ylabel('Speed (m/s)')\n",
    "plt.title('Power Draw / kW')\n",
    "plt.colorbar()"
   ]
  },
  {
   "cell_type": "code",
   "execution_count": 14,
   "metadata": {
    "collapsed": false
   },
   "outputs": [
    {
     "data": {
      "text/plain": [
       "<matplotlib.colorbar.Colorbar instance at 0x7f112ca49560>"
      ]
     },
     "execution_count": 14,
     "metadata": {},
     "output_type": "execute_result"
    },
    {
     "data": {
      "image/png": "[encoded data removed]",
      "text/plain": [
       "<matplotlib.figure.Figure at 0x7f112cb822d0>"
      ]
     },
     "metadata": {},
     "output_type": "display_data"
    }
   ],
   "source": [
    "WINGSPAN = wingspan(VV, LDRATIO)\n",
    "WINGSPAN = np.where(WINGSPAN < 10, WINGSPAN, float('nan'))\n",
    "plt.contourf(LDRATIO, VV, WINGSPAN)\n",
    "plt.xlabel('Lift-to-Drag Ratio')\n",
    "plt.ylabel('Speed (m/s)')\n",
    "plt.title('Wingspan / m')\n",
    "plt.colorbar()"
   ]
  },
  {
   "cell_type": "code",
   "execution_count": 15,
   "metadata": {
    "collapsed": false
   },
   "outputs": [
    {
     "data": {
      "text/plain": [
       "<matplotlib.colorbar.Colorbar instance at 0x7f112c9f9488>"
      ]
     },
     "execution_count": 15,
     "metadata": {},
     "output_type": "execute_result"
    },
    {
     "data": {
      "image/png": "[encoded data removed]",
      "text/plain": [
       "<matplotlib.figure.Figure at 0x7f112ca1f290>"
      ]
     },
     "metadata": {},
     "output_type": "display_data"
    }
   ],
   "source": [
    "MAXROPE = 100\n",
    "\n",
    "ROPELENGTH = LL(VV, LDRATIO)\n",
    "ROPELENGTH = np.where(ROPELENGTH < MAXROPE, ROPELENGTH, float('nan'))\n",
    "plt.contourf(LDRATIO, VV, ROPELENGTH)\n",
    "plt.xlabel('Lift-to-Drag Ratio')\n",
    "plt.ylabel('Speed (m/s)')\n",
    "plt.title('Rope Length / m')\n",
    "plt.colorbar()"
   ]
  },
  {
   "cell_type": "code",
   "execution_count": 16,
   "metadata": {
    "collapsed": false
   },
   "outputs": [
    {
     "data": {
      "text/plain": [
       "<matplotlib.colorbar.Colorbar instance at 0x7f112c77c320>"
      ]
     },
     "execution_count": 16,
     "metadata": {},
     "output_type": "execute_result"
    },
    {
     "data": {
      "image/png": "[encoded data removed]",
      "text/plain": [
       "<matplotlib.figure.Figure at 0x7f112cd2a110>"
      ]
     },
     "metadata": {},
     "output_type": "display_data"
    }
   ],
   "source": [
    "BATT_LOAD = battery_load(VV, LDRATIO)\n",
    "BATT_LOAD = np.where(BATT_LOAD < 0.1 * DESIGN_LOAD, BATT_LOAD, float('nan'))\n",
    "plt.contourf(LDRATIO, VV, BATT_LOAD)\n",
    "plt.xlabel('Lift-to-Drag Ratio')\n",
    "plt.ylabel('Speed (m/s)')\n",
    "plt.title('Battery Weight / kg')\n",
    "plt.colorbar()"
   ]
  },
  {
   "cell_type": "code",
   "execution_count": 17,
   "metadata": {
    "collapsed": false
   },
   "outputs": [
    {
     "name": "stderr",
     "output_type": "stream",
     "text": [
      "/usr/local/lib/python2.7/dist-packages/IPython/kernel/__main__.py:5: RuntimeWarning: invalid value encountered in less\n",
      "/usr/local/lib/python2.7/dist-packages/IPython/kernel/__main__.py:6: RuntimeWarning: invalid value encountered in less\n",
      "/usr/local/lib/python2.7/dist-packages/IPython/kernel/__main__.py:7: RuntimeWarning: invalid value encountered in less\n",
      "/usr/local/lib/python2.7/dist-packages/IPython/kernel/__main__.py:8: RuntimeWarning: invalid value encountered in less\n"
     ]
    },
    {
     "data": {
      "text/plain": [
       "<matplotlib.colorbar.Colorbar instance at 0x7f112c65c050>"
      ]
     },
     "execution_count": 17,
     "metadata": {},
     "output_type": "execute_result"
    },
    {
     "data": {
      "image/png": "[encoded data removed]",
      "text/plain": [
       "<matplotlib.figure.Figure at 0x7f112c751950>"
      ]
     },
     "metadata": {},
     "output_type": "display_data"
    }
   ],
   "source": [
    "# Plot power draw subject to all design constraints\n",
    "\n",
    "LDRATIO, VV = np.meshgrid(ldratio, vv)\n",
    "POWER2 = Pp(VV, LDRATIO)\n",
    "POWER2 = np.where(POWER < 1e4, POWER, float('nan'))\n",
    "POWER2 = np.where(WINGSPAN < 10, POWER2, float('nan'))\n",
    "POWER2 = np.where(ROPELENGTH < 100, POWER2, float('nan'))\n",
    "POWER2 = np.where(BATT_LOAD < 0.1 * DESIGN_LOAD, POWER2, float('nan'))\n",
    "\n",
    "plt.contourf(LDRATIO, VV, POWER2 / 1e3)\n",
    "plt.xlabel('Lift-to-Drag Ratio')\n",
    "plt.ylabel('Speed (m/s)')\n",
    "plt.title('Power Draw / kW')\n",
    "plt.colorbar()"
   ]
  },
  {
   "cell_type": "code",
   "execution_count": null,
   "metadata": {
    "collapsed": true
   },
   "outputs": [],
   "source": []
  }
 ],
 "metadata": {
  "kernelspec": {
   "display_name": "Python 2",
   "language": "python",
   "name": "python2"
  },
  "language_info": {
   "codemirror_mode": {
    "name": "ipython",
    "version": 2
   },
   "file_extension": ".py",
   "mimetype": "text/x-python",
   "name": "python",
   "nbconvert_exporter": "python",
   "pygments_lexer": "ipython2",
   "version": "2.7.6"
  }
 },
 "nbformat": 4,
 "nbformat_minor": 0
}
